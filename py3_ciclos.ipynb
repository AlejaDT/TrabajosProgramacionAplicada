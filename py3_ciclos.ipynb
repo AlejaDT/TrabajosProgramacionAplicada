{
  "nbformat": 4,
  "nbformat_minor": 0,
  "metadata": {
    "colab": {
      "name": "py3-ciclos.ipynb",
      "provenance": [],
      "authorship_tag": "ABX9TyMe2+Dxys+bCgqfP1jr3reO",
      "include_colab_link": true
    },
    "kernelspec": {
      "name": "python3",
      "display_name": "Python 3"
    },
    "language_info": {
      "name": "python"
    }
  },
  "cells": [
    {
      "cell_type": "markdown",
      "metadata": {
        "id": "view-in-github",
        "colab_type": "text"
      },
      "source": [
        "<a href=\"https://colab.research.google.com/github/AlejaDT/TrabajosProgramacionAplicada/blob/py3-ciclo/py3_ciclos.ipynb\" target=\"_parent\"><img src=\"https://colab.research.google.com/assets/colab-badge.svg\" alt=\"Open In Colab\"/></a>"
      ]
    },
    {
      "cell_type": "markdown",
      "metadata": {
        "id": "RQprGUohYFWg"
      },
      "source": [
        " Asumiendo que 𝐴, 𝐵, 𝐶 son listas con 𝑛 datos, realice y pruebe una función que calcule la siguiente\n",
        "sumatoria.\n",
        "\n",
        "$(\\sum_{i=0}^{n-1} (𝐴[𝑖]𝐵[𝑖] )+ 𝐶[i])+n^{2}$\n",
        "\n",
        "# **SOLUCIÓN**"
      ]
    },
    {
      "cell_type": "code",
      "metadata": {
        "id": "nNSOOvy0A0jK"
      },
      "source": [
        "def sumatoria1(A,B,C):\n",
        "  #Las listas A,B,C tiene la misma longitud\n",
        "  n = len(A)\n",
        "  suma = 0\n",
        "  for i in range (n):\n",
        "    prodAB = A[i]*B[i]\n",
        "    sumABC = prodAB+C[i]\n",
        "    suma += sumABC\n",
        "  resultado = suma + n**2\n",
        "  return resultado"
      ],
      "execution_count": 2,
      "outputs": []
    },
    {
      "cell_type": "code",
      "metadata": {
        "colab": {
          "base_uri": "https://localhost:8080/"
        },
        "id": "bcraJXTTXGHo",
        "outputId": "fe429b84-7131-4dbc-d806-a1c729140cd5"
      },
      "source": [
        "A=[1,2,3]\n",
        "B=[4,5,6]\n",
        "C=[1,1,1]\n",
        "\n",
        "sumatoria1(A,B,C)\n"
      ],
      "execution_count": 3,
      "outputs": [
        {
          "output_type": "execute_result",
          "data": {
            "text/plain": [
              "44"
            ]
          },
          "metadata": {},
          "execution_count": 3
        }
      ]
    },
    {
      "cell_type": "code",
      "metadata": {
        "colab": {
          "base_uri": "https://localhost:8080/"
        },
        "id": "M45FdF_rXgqm",
        "outputId": "1987dca8-ebdc-4bbf-bcc9-6a2914de8d77"
      },
      "source": [
        "(((1*4)+1) + ((2*5)+1) + ((3*6)+1))+3**2"
      ],
      "execution_count": 4,
      "outputs": [
        {
          "output_type": "execute_result",
          "data": {
            "text/plain": [
              "44"
            ]
          },
          "metadata": {},
          "execution_count": 4
        }
      ]
    },
    {
      "cell_type": "markdown",
      "metadata": {
        "id": "bwJEDE2XZeN4"
      },
      "source": [
        "2) Asumiendo que 𝐴, 𝐵, son listas con 2𝑛 datos cada una, realice y pruebe una función que llene la\n",
        "lista 𝐶 con los siguientes 𝑛 datos \n",
        "\n",
        "$C[i]=(𝐴[𝑖+1])^{2}𝐵[2𝑖] )+ B[n+i])$\n"
      ]
    },
    {
      "cell_type": "code",
      "metadata": {
        "id": "A42QD5LGbGLC"
      },
      "source": [
        "def lista(A,B):\n",
        "  #Las listas A,B tiene la misma longitud\n",
        "\n",
        "  n=len(B)//2\n",
        "  C=[] #Lista vacía\n",
        "\n",
        "  for i in range (n):\n",
        "    expA=(A[i+1])**2\n",
        "    prodAB= expA*B[2*i]\n",
        "    sumaAB = prodAB+B[n+i]\n",
        "    C.append(sumaAB)\n",
        "\n",
        "  return C\n"
      ],
      "execution_count": 5,
      "outputs": []
    },
    {
      "cell_type": "code",
      "metadata": {
        "colab": {
          "base_uri": "https://localhost:8080/"
        },
        "id": "JNBMXZPKb6fN",
        "outputId": "505791c2-bf26-4351-b2a1-b27571d2bb1f"
      },
      "source": [
        "A=[1,3,5,7,9,11]\n",
        "B=[1,2,3,4,5,6]\n",
        "lista(A,B)"
      ],
      "execution_count": 6,
      "outputs": [
        {
          "output_type": "execute_result",
          "data": {
            "text/plain": [
              "[13, 80, 251]"
            ]
          },
          "metadata": {},
          "execution_count": 6
        }
      ]
    },
    {
      "cell_type": "code",
      "metadata": {
        "id": "DQbJJPYqb6KZ"
      },
      "source": [
        "[]"
      ],
      "execution_count": null,
      "outputs": []
    },
    {
      "cell_type": "code",
      "metadata": {
        "id": "7pI7CoZKl3Gw"
      },
      "source": [
        ""
      ],
      "execution_count": null,
      "outputs": []
    }
  ]
}