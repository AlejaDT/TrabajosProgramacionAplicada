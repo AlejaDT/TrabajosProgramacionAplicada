{
  "nbformat": 4,
  "nbformat_minor": 0,
  "metadata": {
    "colab": {
      "name": "Clase 10/11/2021.ipynb",
      "provenance": [],
      "authorship_tag": "ABX9TyOSqw7z9xl2QQ18xMKgQyU2",
      "include_colab_link": true
    },
    "kernelspec": {
      "name": "python3",
      "display_name": "Python 3"
    },
    "language_info": {
      "name": "python"
    }
  },
  "cells": [
    {
      "cell_type": "markdown",
      "metadata": {
        "id": "view-in-github",
        "colab_type": "text"
      },
      "source": [
        "<a href=\"https://colab.research.google.com/github/AlejaDT/TrabajosProgramacionAplicada/blob/main/Ejercicio%20rima.ipynb\" target=\"_parent\"><img src=\"https://colab.research.google.com/assets/colab-badge.svg\" alt=\"Open In Colab\"/></a>"
      ]
    },
    {
      "cell_type": "code",
      "metadata": {
        "colab": {
          "base_uri": "https://localhost:8080/"
        },
        "id": "sVhgJ9pN4Ibn",
        "outputId": "7fe87fb3-1477-4285-db29-68af5aad9c48"
      },
      "source": [
        "\n",
        "palabra = input(\"Ingrese la terminación a validar: \")\n",
        "def rima(palabra):\n",
        "    \n",
        "  archivo  = open('palabras500.csv', encoding=\"utf-8\")\n",
        "  lineas = archivo.readlines()\n",
        "  archivo.close()\n",
        "\n",
        "  print(f'Las palabras con terminación en \"{palabra}\" son\\n')\n",
        "  for linea in lineas:\n",
        "    if linea[-3:]==palabra+'\\n':\n",
        "      print (linea)\n",
        "\n",
        "rima(palabra)    \n"
      ],
      "execution_count": 68,
      "outputs": [
        {
          "output_type": "stream",
          "name": "stdout",
          "text": [
            "Ingrese la terminación a validar: an\n",
            "Las palabras con terminación en \"an\" son\n",
            "\n",
            "han\n",
            "\n",
            "tan\n",
            "\n",
            "san\n",
            "\n",
            "van\n",
            "\n",
            "plan\n",
            "\n"
          ]
        }
      ]
    }
  ]
}